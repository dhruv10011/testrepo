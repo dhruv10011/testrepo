{
 "cells": [
  {
   "cell_type": "markdown",
   "id": "7a96ace7-8010-408c-ad36-471939e5c648",
   "metadata": {},
   "source": [
    "# Data Science Project\n"
   ]
  },
  {
   "cell_type": "markdown",
   "id": "3597cc2d-713c-47f5-975d-1d602c94f383",
   "metadata": {},
   "source": [
    "## Introduction\n",
    "This notebook covers some fundamental covers some fundamentals tools used in data science, including programming languages, and basic calculations."
   ]
  },
  {
   "cell_type": "markdown",
   "id": "28e31728-a254-4c4b-92c4-85201e21f8a4",
   "metadata": {},
   "source": [
    "## Data science languages\n",
    "Python \n",
    "R \n",
    "SQL\n",
    "Julia\n",
    "scala"
   ]
  },
  {
   "cell_type": "markdown",
   "id": "438f9789-1b5a-4971-b4c4-783713074fcf",
   "metadata": {},
   "source": [
    "## Data science libraries\n",
    "Pandas\n",
    "Numpy\n",
    "Matplotlib\n",
    "Scikit-learn\n",
    "Tensorflow"
   ]
  },
  {
   "cell_type": "markdown",
   "id": "9ca928ed-678f-431a-b9f5-956d4d7875be",
   "metadata": {},
   "source": [
    "## Data science tools\n",
    "|Tool            | Description\n",
    "|----------------|----------------------------------|\n",
    "|Jupyter---------| Intreractive notebook environment| \n",
    "|Rstudio---------| IDE for R                        |\n",
    "|Apache Spark----| Big data analytics engine        |\n",
    "Tableau----------| Data visualization tool          |\n",
    "VS Code----------| Code editor                      |"
   ]
  },
  {
   "cell_type": "markdown",
   "id": "0128999e-c19a-44d2-b2a4-6b84e11c094f",
   "metadata": {},
   "source": [
    "## Arithmetic Expression Examples\n",
    "here is an example of arithmetic example:\n",
    "(3+5)*2 = 16"
   ]
  },
  {
   "cell_type": "markdown",
   "id": "3d1c9f95-7f91-4ca5-87d3-91c153b5e3d4",
   "metadata": {},
   "source": [
    "## Code cell to multiply and add\n",
    "a = 5\n",
    "b = 3\n",
    "sum_result = a+b = 8\n",
    "product result = a*b = 15"
   ]
  },
  {
   "cell_type": "markdown",
   "id": "477a57e3-1bfd-4c39-94a0-7828b791cad6",
   "metadata": {},
   "source": [
    "## Minutes to hours\n",
    "minutes = 120\n",
    "hours = minutes/60 = 2"
   ]
  },
  {
   "cell_type": "markdown",
   "id": "339429d0-856c-470d-8de2-1827e278832e",
   "metadata": {},
   "source": [
    "## Objectives \n",
    "learn about data science tools and libraries\n",
    "perform basic arithmetic operations\n",
    "use markdown and code cells in jupyter\n",
    "share work using github"
   ]
  },
  {
   "cell_type": "markdown",
   "id": "999aea13-5df8-4456-a4b7-4f776f3c4cac",
   "metadata": {},
   "source": [
    "## Author\n",
    "Dhruv Gupta "
   ]
  }
 ],
 "metadata": {
  "kernelspec": {
   "display_name": "Python 3 (ipykernel)",
   "language": "python",
   "name": "python3"
  },
  "language_info": {
   "codemirror_mode": {
    "name": "ipython",
    "version": 3
   },
   "file_extension": ".py",
   "mimetype": "text/x-python",
   "name": "python",
   "nbconvert_exporter": "python",
   "pygments_lexer": "ipython3",
   "version": "3.12.7"
  }
 },
 "nbformat": 4,
 "nbformat_minor": 5
}
