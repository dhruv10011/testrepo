{
 "cells": [
  {
   "cell_type": "markdown",
   "id": "0e9177bc-be9e-4eb5-aa56-b51c06183deb",
   "metadata": {},
   "source": [
    "## Cricket Statistics Analysis"
   ]
  },
  {
   "cell_type": "markdown",
   "id": "dca64f37-b431-4efd-9ed7-d764a3c91e0b",
   "metadata": {},
   "source": [
    "## INDIA VS ENGLAND TEST SERIES 2025"
   ]
  },
  {
   "cell_type": "raw",
   "id": "b23dba26-95fc-4f21-8037-10f9e6367e23",
   "metadata": {},
   "source": [
    "1. OVERVIEW OF THE MATCH\n",
    "   VENUE :- LEEDS ENGLAND\n",
    "   LAST H2H MATCH AT LEEDS\n",
    "   25 AUGUST 2021 IND VS ENG\n",
    "   WINNER ENGLAND\n",
    "   HIGHEST RUNS JOE ROOT(121) & HIGHEST WICKETS OLIE ROBINSON(7)\n",
    "   MAN OF THE MATCH OLIE ROBINSON\n",
    "   \n"
   ]
  },
  {
   "cell_type": "raw",
   "id": "32a90262-14f7-4626-b071-dc30dbcbf8ca",
   "metadata": {},
   "source": [
    "2.H2H RECORD(TEST MATCHES ONLY)\n",
    "  INDIA: 35 ENGLAND WON: 51 N/R: 50\n",
    "  LAST H2H 15 FEB 2024 (RAJKOT)\n",
    "  INDIA 445 & 430-4\n",
    "  ENG 396 & 122\n",
    "  RESULT INDIA WON BY 434 RUNS\n",
    "  HIGHEST RUNS YASHASVI JAISWAL (224)\n",
    "  HIGHEST WICKETS RAVINDRA JADEJA (7)\n",
    "  MAN OF THE MATCH RAVINDRA JADEJA"
   ]
  },
  {
   "cell_type": "raw",
   "id": "ea2e4bc3-e422-4b37-affb-1529b2a02d48",
   "metadata": {},
   "source": [
    "3.AVERAGE\n",
    "AVG 1ST BATTING SCORE AT LEEDS 298\n",
    "AVG 2ND BATTING SCORE AT LEEDS 291"
   ]
  },
  {
   "cell_type": "raw",
   "id": "d4cd5bac-7e7b-4e15-8cd0-0d3ed2021bb4",
   "metadata": {},
   "source": [
    "4.TOP BATSMAN CURRENT FORM\n",
    "INDIA YASHASHVI JAISWAL 22,10,84,82,4,4*,0,24,0,161\n",
    "ENGLAND JOE ROOT 34,54,32,106,3,23,0,33,5,18,34"
   ]
  },
  {
   "cell_type": "raw",
   "id": "a312515f-3812-4e4b-ad5c-f31b636bb065",
   "metadata": {},
   "source": [
    "5.LAST TEST MATCH RESULT                | ENGLAND LAST TEST MATCH RESULT\n",
    " INDIA VS AUSTRALIA (SYDNEY)            | ENGLAND VS ZIMBAWE        \n",
    " INDIA 185 & 157 AUSTRALIA 181 & 162/4  | ENGLAND 555/6d ZIMBAWE 256 & \n",
    " AUSTRALIA WON BY 6 WICKETS             | ENGLAND WON BY AN INNINGS AND 45 RUNS"
   ]
  }
 ],
 "metadata": {
  "kernelspec": {
   "display_name": "Python 3 (ipykernel)",
   "language": "python",
   "name": "python3"
  },
  "language_info": {
   "codemirror_mode": {
    "name": "ipython",
    "version": 3
   },
   "file_extension": ".py",
   "mimetype": "text/x-python",
   "name": "python",
   "nbconvert_exporter": "python",
   "pygments_lexer": "ipython3",
   "version": "3.12.7"
  }
 },
 "nbformat": 4,
 "nbformat_minor": 5
}
